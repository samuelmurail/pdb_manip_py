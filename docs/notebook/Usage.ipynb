{
 "cells": [
  {
   "cell_type": "markdown",
   "metadata": {},
   "source": [
    "# Usage\n",
    "\n",
    "\n",
    "To use PDB Manip Python in a project:"
   ]
  },
  {
   "cell_type": "code",
   "execution_count": 1,
   "metadata": {},
   "outputs": [],
   "source": [
    "from pdb_manip_py import pdb_manip\n",
    "pdb_manip.show_log()"
   ]
  },
  {
   "cell_type": "markdown",
   "metadata": {},
   "source": [
    "## Create a ``Coor()`` object\n",
    "\n",
    "You can either get the coordinates from the Protein Data Bank:"
   ]
  },
  {
   "cell_type": "code",
   "execution_count": 2,
   "metadata": {},
   "outputs": [
    {
     "name": "stdout",
     "output_type": "stream",
     "text": [
      "Succeed to read file 1hsg.pdb ,  1686 atoms found\n"
     ]
    }
   ],
   "source": [
    "coor_1hsg = pdb_manip.Coor()\n",
    "coor_1hsg.get_PDB('1hsg')"
   ]
  },
  {
   "cell_type": "markdown",
   "metadata": {},
   "source": [
    "Or load a local stored file:"
   ]
  },
  {
   "cell_type": "code",
   "execution_count": 3,
   "metadata": {},
   "outputs": [
    {
     "name": "stdout",
     "output_type": "stream",
     "text": [
      "Succeed to read file 1hsg.pdb ,  1686 atoms found\n"
     ]
    }
   ],
   "source": [
    "coor_1hsg = pdb_manip.Coor('./1hsg.pdb')"
   ]
  },
  {
   "cell_type": "markdown",
   "metadata": {},
   "source": [
    "## Extract selection of coordinates\n",
    "\n",
    "You can extract a selection of coordinates, here we will use the `1hsg.pdb` PDB file and extract the coordinates of L-735,524 an inhibitor of the HIV proteases (resname ``MK1``):"
   ]
  },
  {
   "cell_type": "code",
   "execution_count": 4,
   "metadata": {},
   "outputs": [],
   "source": [
    "# Select res_name MK1\n",
    "lig_coor = coor_1hsg.select_part_dict(selec_dict={'res_name': ['MK1']})"
   ]
  },
  {
   "cell_type": "markdown",
   "metadata": {},
   "source": [
    "The obtain selection can be saved using the ``write_pdb()`` function:"
   ]
  },
  {
   "cell_type": "code",
   "execution_count": 5,
   "metadata": {},
   "outputs": [
    {
     "name": "stdout",
     "output_type": "stream",
     "text": [
      "Succeed to save file 1hsg_lig.pdb\n"
     ]
    }
   ],
   "source": [
    "# Save the ligand coordinates\n",
    "lig_coor.write_pdb('1hsg_lig.pdb')"
   ]
  },
  {
   "cell_type": "markdown",
   "metadata": {},
   "source": [
    "For selection you can use :\n",
    "\n",
    "- ``name`` for atom name\n",
    "- ``alter_loc`` alternative location\n",
    "- ``res_name`` residue name\n",
    "- ``chain`` chain ID\n",
    "- ``res_num`` residue number\n",
    "- ``uniq_resid`` a unique residue number starting from 0\n",
    "- ``insert_res`` insert residue\n",
    "- ``xyz`` x, y, z, coordinates\n",
    "- ``occ`` occupation\n",
    "- ``beta`` beta factor\n",
    "\n",
    "Selector can be combined, *eg.* to select residue names Proline and Alanine from chain A you can use:"
   ]
  },
  {
   "cell_type": "code",
   "execution_count": 6,
   "metadata": {},
   "outputs": [],
   "source": [
    "PRO_ALA_A_coor = coor_1hsg.select_part_dict(selec_dict={'res_name': ['PRO', 'ALA'], 'chain': ['A']})"
   ]
  },
  {
   "cell_type": "markdown",
   "metadata": {},
   "source": [
    "### *note:*\n",
    "\n",
    "To select protein atoms you can use the PROTEIN_AA variable containing protein residue name, giving this selector:\n",
    "\n",
    "    selec_dict={'res_name': pdb_manip.PROTEIN_AA)}"
   ]
  },
  {
   "cell_type": "markdown",
   "metadata": {},
   "source": [
    "## Visualize coordinates in 3D\n",
    "\n",
    "You can use the ``nglview`` library to vizualise in 3D your protein."
   ]
  },
  {
   "cell_type": "code",
   "execution_count": 7,
   "metadata": {},
   "outputs": [
    {
     "data": {
      "application/vnd.jupyter.widget-view+json": {
       "model_id": "ce715a92d90348d9b5a2bd048b5456cc",
       "version_major": 2,
       "version_minor": 0
      },
      "text/plain": [
       "NGLWidget()"
      ]
     },
     "metadata": {},
     "output_type": "display_data"
    }
   ],
   "source": [
    "coor_1hsg.view"
   ]
  },
  {
   "cell_type": "code",
   "execution_count": 23,
   "metadata": {
    "nbsphinx": "hidden"
   },
   "outputs": [],
   "source": [
    "nv.write_html('../_static/1hsg.html', [view])"
   ]
  },
  {
   "cell_type": "code",
   "execution_count": null,
   "metadata": {
    "nbsphinx": "hidden"
   },
   "outputs": [],
   "source": [
    "from IPython.display import IFrame"
   ]
  },
  {
   "cell_type": "code",
   "execution_count": 24,
   "metadata": {
    "nbsphinx_prompt_width": 0,
    "scrolled": true,
    "source_hidden": true
   },
   "outputs": [
    {
     "data": {
      "text/html": [
       "\n",
       "        <iframe\n",
       "            width=\"600\"\n",
       "            height=\"300\"\n",
       "            src=\"../_static/1hsg.html\"\n",
       "            frameborder=\"0\"\n",
       "            allowfullscreen\n",
       "        ></iframe>\n",
       "        "
      ],
      "text/plain": [
       "<IPython.lib.display.IFrame at 0x114028670>"
      ]
     },
     "execution_count": 24,
     "metadata": {},
     "output_type": "execute_result"
    }
   ],
   "source": [
    "IFrame(src='../_static/1hsg.html', width=600, height=300)"
   ]
  }
 ],
 "metadata": {
  "celltoolbar": "Éditer les Méta-Données",
  "kernelspec": {
   "display_name": "Python 3",
   "language": "python",
   "name": "python3"
  },
  "language_info": {
   "codemirror_mode": {
    "name": "ipython",
    "version": 3
   },
   "file_extension": ".py",
   "mimetype": "text/x-python",
   "name": "python",
   "nbconvert_exporter": "python",
   "pygments_lexer": "ipython3",
   "version": "3.8.2"
  },
  "toc": {
   "base_numbering": 1,
   "nav_menu": {},
   "number_sections": true,
   "sideBar": true,
   "skip_h1_title": false,
   "title_cell": "Table of Contents",
   "title_sidebar": "Contents",
   "toc_cell": false,
   "toc_position": {},
   "toc_section_display": true,
   "toc_window_display": false
  }
 },
 "nbformat": 4,
 "nbformat_minor": 4
}
